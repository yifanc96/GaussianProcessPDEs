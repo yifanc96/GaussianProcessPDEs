{
 "cells": [
  {
   "cell_type": "code",
   "execution_count": 1,
   "id": "24350f36",
   "metadata": {},
   "outputs": [],
   "source": [
    "import jax.numpy as jnp\n",
    "from jax import grad, vmap, hessian, jit\n",
    "\n",
    "from jax.config import config; \n",
    "config.update(\"jax_enable_x64\", True)\n",
    "\n",
    "# numpy\n",
    "import numpy as onp\n",
    "from numpy import random \n",
    "\n",
    "import argparse\n",
    "import logging\n",
    "import datetime\n",
    "from time import time\n",
    "import os"
   ]
  },
  {
   "cell_type": "code",
   "execution_count": 2,
   "id": "6da8a0f7",
   "metadata": {},
   "outputs": [],
   "source": [
    "\n",
    "# solving -grad(a*grad u) + alpha u^m = f on unit ball\n",
    "# a = a(x,theta)\n",
    "def get_parser():\n",
    "    parser = argparse.ArgumentParser(description='Parametric Elliptic equation GP solver')\n",
    "    parser.add_argument(\"--alpha\", type=float, default = 0.0)\n",
    "    parser.add_argument(\"--m\", type = int, default = 3)\n",
    "    parser.add_argument(\"--dim_x\", type = int, default = 1)\n",
    "    parser.add_argument(\"--dim_theta\", type = int, default = 1)\n",
    "    parser.add_argument(\"--kernel\", type=str, default=\"anisotripic_Gaussian\")\n",
    "    \n",
    "    parser.add_argument(\"--sigma-scale_x\", type = float, default = 0.25)\n",
    "    parser.add_argument(\"--sigma-scale_theta\", type = float, default = 0.2)\n",
    "    # sigma_x = args.sigma-scale_x*sqrt(dim)\n",
    "    # sigma_theta = args.sigma-scale_theta*sqrt(dim)\n",
    "    \n",
    "    parser.add_argument(\"--N_domain\", type = int, default = 4000)\n",
    "    parser.add_argument(\"--N_boundary\", type = int, default = 800)\n",
    "    parser.add_argument(\"--N_test\", type = int, default = 2000)\n",
    "    parser.add_argument(\"--nugget\", type = float, default = 1e-6)\n",
    "    parser.add_argument(\"--GNsteps\", type = int, default = 1)\n",
    "    parser.add_argument(\"--logroot\", type=str, default='./logs/')\n",
    "    parser.add_argument(\"--randomseed\", type=int, default=1)\n",
    "    parser.add_argument(\"--num_exp\", type=int, default=1)\n",
    "    args = parser.parse_args(args=[])    \n",
    "    return args\n"
   ]
  },
  {
   "cell_type": "code",
   "execution_count": 3,
   "id": "698f0d90",
   "metadata": {},
   "outputs": [],
   "source": [
    "@jit # tx is short hand of theta_x\n",
    "def get_GNkernel_train(x,tx,y,ty,wx0,wx1,wxg,wy0,wy1,wyg,sigma):\n",
    "    # wx0 * delta_x + wxg * nabla_x delta_x + wx1 * Delta_x delta_x \n",
    "    return wx0*wy0*kappa(x,tx,y,ty,sigma) + wx0*wy1*Delta_y1_kappa(x,tx,y,ty,sigma) + wy0*wx1*Delta_x1_kappa(x,tx,y,ty,sigma) + wx1*wy1*Delta_x1_Delta_y1_kappa(x,tx,y,ty,sigma) + wx0*D_wy1_kappa(x,tx,y,ty,sigma,wyg) + wy0*D_wx1_kappa(x,tx,y,ty,sigma,wxg) + wx1*Delta_x1_D_wy1_kappa(x,tx,y,ty,sigma,wyg) + wy1*D_wx1_Delta_y1_kappa(x,tx,y,ty,sigma,wxg) + D_wx1_D_wy1_kappa(x,tx,y,ty,sigma,wxg,wyg)\n",
    "\n",
    "@jit\n",
    "def get_GNkernel_train_boundary(x,tx,y,ty,wy0,wy1,wyg,sigma):\n",
    "    return wy0*kappa(x,tx,y,ty,sigma) + wy1*Delta_y1_kappa(x,tx,y,ty,sigma) + D_wy1_kappa(x,tx,y,ty,sigma,wyg)\n",
    "@jit\n",
    "def get_GNkernel_val_predict(x,tx,y,ty,wy0,wy1,wyg,sigma):\n",
    "    return wy0*kappa(x,tx,y,ty,sigma) + wy1*Delta_y1_kappa(x,tx,y,ty,sigma) + D_wy1_kappa(x,tx,y,ty,sigma,wyg)\n"
   ]
  },
  {
   "cell_type": "code",
   "execution_count": 4,
   "id": "5b8ad1b3",
   "metadata": {},
   "outputs": [],
   "source": [
    "def assembly_Theta(X_domain, X_boundary, w0, w1, wg, sigma):\n",
    "    # X_domain, dim: N_domain*d; \n",
    "    # w0 col vec: coefs of Diracs, dim: N_domain; \n",
    "    # w1 coefs of Laplacians, dim: N_domain\n",
    "    \n",
    "    N_domain,d = onp.shape(X_domain)\n",
    "    N_boundary,_ = onp.shape(X_boundary)\n",
    "    Theta = onp.zeros((N_domain+N_boundary,N_domain+N_boundary))\n",
    "    \n",
    "    XdXd0 = onp.reshape(onp.tile(X_domain,(1,N_domain)),(-1,d))\n",
    "    XdXd1 = onp.tile(X_domain,(N_domain,1))\n",
    "    \n",
    "    XbXd0 = onp.reshape(onp.tile(X_boundary,(1,N_domain)),(-1,d))\n",
    "    XbXd1 = onp.tile(X_domain,(N_boundary,1))\n",
    "    \n",
    "    XbXb0 = onp.reshape(onp.tile(X_boundary,(1,N_boundary)),(-1,d))\n",
    "    XbXb1 = onp.tile(X_boundary,(N_boundary,1))\n",
    "    \n",
    "    arr_wx0 = onp.reshape(onp.tile(w0,(1,N_domain)),(-1,1))\n",
    "    arr_wx1 = onp.reshape(onp.tile(w1,(1,N_domain)),(-1,1))\n",
    "    arr_wxg = onp.reshape(onp.tile(wg,(1,N_domain)),(-1,d_x))\n",
    "    arr_wy0 = onp.tile(w0,(N_domain,1))\n",
    "    arr_wy1 = onp.tile(w1,(N_domain,1))\n",
    "    arr_wyg = onp.tile(wg,(N_domain,1))\n",
    "    \n",
    "    arr_wy0_bd = onp.tile(w0,(N_boundary,1))\n",
    "    arr_wy1_bd = onp.tile(w1,(N_boundary,1))\n",
    "    arr_wyg_bd = onp.tile(wg,(N_boundary,1))\n",
    "    \n",
    "    val = vmap(lambda x,tx,y,ty,wx0,wx1,wxg,wy0,wy1,wyg: get_GNkernel_train(x,tx,y,ty,wx0,wx1,wxg,wy0,wy1,wyg,sigma))(XdXd0[:,:d_x],XdXd0[:,d_x:],XdXd1[:,:d_x],XdXd1[:,d_x:],arr_wx0,arr_wx1,arr_wxg,arr_wy0,arr_wy1,arr_wyg)\n",
    "    Theta[:N_domain,:N_domain] = onp.reshape(val, (N_domain,N_domain))\n",
    "    \n",
    "    val = vmap(lambda x,tx,y,ty,wy0,wy1,wyg: get_GNkernel_train_boundary(x,tx,y,ty,wy0,wy1,wyg,sigma))(XbXd0[:,:d_x],XbXd0[:,d_x:],XbXd1[:,:d_x],XbXd1[:,d_x:],arr_wy0_bd,arr_wy1_bd,arr_wyg_bd)\n",
    "    Theta[N_domain:,:N_domain] = onp.reshape(val, (N_boundary,N_domain))\n",
    "    Theta[:N_domain,N_domain:] = onp.transpose(onp.reshape(val, (N_boundary,N_domain)))\n",
    "    \n",
    "    val = vmap(lambda x1,x2,y1,y2: kappa(x1, x2, y1, y2, sigma))(XbXb0[:,:d_x], XbXb0[:,d_x:], XbXb1[:,:d_x], XbXb1[:,d_x:])\n",
    "    Theta[N_domain:,N_domain:] = onp.reshape(val, (N_boundary, N_boundary))\n",
    "    return Theta\n",
    "\n",
    "def assembly_Theta_value_predict(X_infer, X_domain, X_boundary, w0, w1, wg, sigma):\n",
    "    N_infer, d = onp.shape(X_infer)\n",
    "    N_domain, _ = onp.shape(X_domain)\n",
    "    N_boundary, _ = onp.shape(X_boundary)\n",
    "    Theta = onp.zeros((N_infer,N_domain+N_boundary))\n",
    "    \n",
    "    XiXd0 = onp.reshape(onp.tile(X_infer,(1,N_domain)),(-1,d))\n",
    "    XiXd1 = onp.tile(X_domain,(N_infer,1))\n",
    "    \n",
    "    XiXb0 = onp.reshape(onp.tile(X_infer,(1,N_boundary)),(-1,d))\n",
    "    XiXb1 = onp.tile(X_boundary,(N_infer,1))\n",
    "    \n",
    "    arr_wy0 = onp.tile(w0,(N_infer,1))\n",
    "    arr_wy1 = onp.tile(w1,(N_infer,1))\n",
    "    arr_wyg = onp.tile(wg,(N_infer,1))\n",
    "    \n",
    "    val = vmap(lambda x,tx,y,ty,wy0,wy1,wyg: get_GNkernel_val_predict(x,tx,y,ty,wy0,wy1,wyg,sigma))(XiXd0[:,:d_x],XiXd0[:,d_x:],XiXd1[:,:d_x],XiXd1[:,d_x:],arr_wy0,arr_wy1,arr_wyg)\n",
    "    Theta[:N_infer,:N_domain] = onp.reshape(val, (N_infer,N_domain))\n",
    "    \n",
    "    val = vmap(lambda x,tx,y,ty: kappa(x,tx,y,ty,sigma))(XiXb0[:,:d_x], XiXb0[:,d_x:],XiXb1[:,:d_x],XiXb1[:,d_x:])\n",
    "    Theta[:N_infer,N_domain:] = onp.reshape(val, (N_infer,N_boundary))\n",
    "    return Theta"
   ]
  },
  {
   "cell_type": "code",
   "execution_count": 5,
   "id": "e88733ea",
   "metadata": {},
   "outputs": [],
   "source": [
    "def GPsolver(X_domain, X_boundary, X_test, sigma, nugget, sol_init, GN_step = 4):\n",
    "    # N_domain, d = onp.shape(X_domain)\n",
    "    sol = sol_init\n",
    "    rhs_f = vmap(f)(X_domain[:,:d_x],X_domain[:,d_x:])[:,onp.newaxis]\n",
    "    bdy_g = vmap(g)(X_boundary[:,:d_x],X_boundary[:,d_x:])[:,onp.newaxis]\n",
    "    wg = vmap(gradx_a)(X_domain[:,:d_x],X_domain[:,d_x:]) #size?\n",
    "\n",
    "    w1 = -vmap(a)(X_domain[:,:d_x],X_domain[:,d_x:])[:,onp.newaxis]\n",
    "    time_begin = time()\n",
    "    for i in range(GN_step):\n",
    "        \n",
    "        w0 = alpha*m*(sol**(m-1))\n",
    "        Theta_train = assembly_Theta(X_domain, X_boundary, w0, w1, wg, sigma)\n",
    "        Theta_test = assembly_Theta_value_predict(X_domain, X_domain, X_boundary, w0, w1, wg, sigma)\n",
    "        rhs = rhs_f + alpha*(m-1)*(sol**m)\n",
    "        rhs = onp.concatenate((rhs, bdy_g), axis = 0)\n",
    "        sol = Theta_test @ (onp.linalg.solve(Theta_train + nugget*onp.diag(onp.diag(Theta_train)),rhs))\n",
    "        total_mins = (time() - time_begin) / 60\n",
    "        logging.info(f'[Timer] GP iteration {i+1}/{GN_step}, finished in {total_mins:.2f} minutes')\n",
    "    \n",
    "    Theta_test = assembly_Theta_value_predict(X_test, X_domain, X_boundary, w0, w1, wg, sigma)\n",
    "    sol_test = Theta_test @ (onp.linalg.solve(Theta_train + nugget*onp.diag(onp.diag(Theta_train)),rhs))\n",
    "    return sol, sol_test\n",
    "\n",
    "def sample_points(N_domain, N_boundary, d_x, d_theta, choice = 'random'):\n",
    "    X_domain = onp.zeros((N_domain,d_x+d_theta))\n",
    "    X_boundary = onp.zeros((N_boundary,d_x+d_theta))\n",
    "    \n",
    "    X_domain[:,:d_x] = onp.random.randn(N_domain,d_x)  # N_domain*d\n",
    "    X_domain[:,:d_x] /= onp.linalg.norm(X_domain[:,:d_x], axis=1)[:,onp.newaxis] # the divisor is of N_domain*1\n",
    "    random_radii = onp.random.rand(N_domain,1) ** (1/d_x)\n",
    "    X_domain[:,:d_x] *= random_radii\n",
    "    \n",
    "    X_domain[:,d_x:] = onp.random.randn(N_domain,d_theta)  # N_domain*d\n",
    "    X_domain[:,:d_x:] /= onp.linalg.norm(X_domain[:,d_x:], axis=1)[:,onp.newaxis] # the divisor is of N_domain*1\n",
    "    random_radii = onp.random.rand(N_domain,1) ** (1/d_theta)\n",
    "    X_domain[:,d_x:] *= random_radii\n",
    "    \n",
    "    X_boundary[:,:d_x] = onp.random.randn(N_boundary,d_x)\n",
    "    X_boundary[:,:d_x] /= onp.linalg.norm(X_boundary[:,:d_x], axis=1)[:,onp.newaxis]\n",
    "    X_boundary[:,d_x:] = onp.random.randn(N_boundary,d_theta)\n",
    "    X_boundary[:,:d_x:] /= onp.linalg.norm(X_boundary[:,d_x:], axis=1)[:,onp.newaxis] # the divisor is of N_domain*1\n",
    "    random_radii = onp.random.rand(N_boundary,1) ** (1/d_theta)\n",
    "    X_boundary[:,d_x:] *= random_radii\n",
    "    \n",
    "    return X_domain, X_boundary"
   ]
  },
  {
   "cell_type": "code",
   "execution_count": 6,
   "id": "eb9992a4",
   "metadata": {},
   "outputs": [],
   "source": [
    "def set_random_seeds(args):\n",
    "    random_seed = args.randomseed\n",
    "    random.seed(random_seed)\n"
   ]
  },
  {
   "cell_type": "code",
   "execution_count": 7,
   "id": "77802e4f",
   "metadata": {},
   "outputs": [
    {
     "name": "stdout",
     "output_type": "stream",
     "text": [
      "argument is Namespace(GNsteps=1, N_boundary=800, N_domain=4000, N_test=2000, alpha=0.0, dim_theta=1, dim_x=1, kernel='anisotripic_Gaussian', logroot='./logs/', m=3, nugget=1e-06, num_exp=1, randomseed=1, sigma_scale_theta=0.2, sigma_scale_x=0.25)\n"
     ]
    }
   ],
   "source": [
    "## solve\n",
    "\n",
    "args = get_parser()\n",
    "print(f'argument is {args}')\n",
    "\n",
    "d_x = args.dim_x\n",
    "d_theta = args.dim_theta\n",
    "alpha = args.alpha\n",
    "m = args.m"
   ]
  },
  {
   "cell_type": "code",
   "execution_count": 8,
   "id": "9875fce3",
   "metadata": {},
   "outputs": [
    {
     "name": "stdout",
     "output_type": "stream",
     "text": [
      "[Equation] alpha: 0.0, m: 3\n"
     ]
    }
   ],
   "source": [
    "@jit\n",
    "def a(x,theta): # exp(sum(sin(x))) * exp(sum(cos(theta)))\n",
    "    return jnp.exp(jnp.sum(jnp.sin(x))) * jnp.exp(jnp.sum(jnp.cos(theta)))\n",
    "@jit\n",
    "def gradx_a(x,theta):\n",
    "    return grad(a,0)(x,theta)\n",
    "@jit\n",
    "def u(x,theta):\n",
    "    return jnp.sum(jnp.sin(x)) * jnp.sum(jnp.sin(theta))\n",
    "    # return 1.0\n",
    "@jit\n",
    "def gradx_u(x,theta):\n",
    "    return grad(u,0)(x,theta)\n",
    "@jit\n",
    "def f(x,theta):\n",
    "    return -a(x,theta) * jnp.trace(hessian(lambda x: u(x,theta))(x))+ jnp.sum(gradx_a(x,theta) * gradx_u(x,theta)) + alpha*(u(x,theta)**m)\n",
    "@jit\n",
    "def g(x,theta):\n",
    "    return u(x,theta)\n",
    "\n",
    "print(f\"[Equation] alpha: {alpha}, m: {m}\")"
   ]
  },
  {
   "cell_type": "code",
   "execution_count": 9,
   "id": "7b5e770b",
   "metadata": {},
   "outputs": [],
   "source": [
    "if args.kernel == \"anisotripic_Gaussian\":\n",
    "    from kernels.anisotropic_Gaussian_kernel import *"
   ]
  },
  {
   "cell_type": "code",
   "execution_count": 10,
   "id": "f00cfac8",
   "metadata": {},
   "outputs": [
    {
     "name": "stdout",
     "output_type": "stream",
     "text": [
      "GN step: 1, dx: 1, d_theta:1 sigma: [0.25, 0.2], number of points: N_domain 4000, N_boundary 800, N_test 2000 kernel: anisotripic_Gaussian, nugget: 1e-06\n"
     ]
    }
   ],
   "source": [
    "d_x = args.dim_x\n",
    "d_theta = args.dim_theta\n",
    "N_domain = args.N_domain\n",
    "N_boundary = args.N_boundary\n",
    "N_test = args.N_test\n",
    "sigma = [args.sigma_scale_x*onp.sqrt(d_x),args.sigma_scale_theta*onp.sqrt(d_theta)]\n",
    "nugget = args.nugget\n",
    "GN_step = args.GNsteps\n",
    "\n",
    "print(f'GN step: {GN_step}, dx: {d_x}, d_theta:{d_theta} sigma: {sigma}, number of points: N_domain {N_domain}, N_boundary {N_boundary}, N_test {N_test} kernel: {args.kernel}, nugget: {args.nugget}')"
   ]
  },
  {
   "cell_type": "code",
   "execution_count": 11,
   "id": "40819a26",
   "metadata": {},
   "outputs": [
    {
     "name": "stderr",
     "output_type": "stream",
     "text": [
      "WARNING:absl:No GPU/TPU found, falling back to CPU. (Set TF_CPP_MIN_LOG_LEVEL=0 and rerun for more info.)\n"
     ]
    },
    {
     "name": "stdout",
     "output_type": "stream",
     "text": [
      "[Experiment] number: 0\n",
      "[Seeds] random seeds: 0\n",
      "[Calculating errs at collocation points ...]\n",
      "[L infinity error] train 0.20441992161342348, test 0.14903710372053497\n",
      "[L2 error] train 0.00034862683100739706, test 0.00044746625920539666\n"
     ]
    }
   ],
   "source": [
    "train_err_2_all = []\n",
    "train_err_inf_all = []\n",
    "test_err_2_all = []\n",
    "test_err_inf_all = []\n",
    "for idx_exp in range(args.num_exp):\n",
    "    print(f\"[Experiment] number: {idx_exp}\")\n",
    "    args.randomseed = idx_exp\n",
    "    set_random_seeds(args)\n",
    "    print(f\"[Seeds] random seeds: {args.randomseed}\")\n",
    "\n",
    "    X_domain, X_boundary = sample_points(N_domain, N_boundary, d_x, d_theta, choice = 'random')\n",
    "    X_test, _ = sample_points(N_test, N_boundary, d_x, d_theta, choice = 'random')\n",
    "\n",
    "    sol_init = onp.random.randn(args.N_domain,1)\n",
    "\n",
    "    sol, sol_test = GPsolver(X_domain, X_boundary, X_test, sigma, nugget, sol_init, GN_step = GN_step)\n",
    "\n",
    "    print('[Calculating errs at collocation points ...]')\n",
    "\n",
    "\n",
    "    # train points\n",
    "    sol_truth = vmap(u)(X_domain[:,:d_x],X_domain[:,d_x:])[:,onp.newaxis]\n",
    "    err = abs(sol-sol_truth)\n",
    "    err_2 = onp.linalg.norm(err,'fro')/(onp.sqrt(N_domain))\n",
    "    train_err_2_all.append(err_2)\n",
    "    err_inf = onp.max(err)\n",
    "    train_err_inf_all.append(err_inf)\n",
    "\n",
    "    # test points\n",
    "    sol_truth = vmap(u)(X_test[:,:d_x],X_test[:,d_x:])[:,onp.newaxis]\n",
    "    err = abs(sol_test-sol_truth)\n",
    "    err_2 = onp.linalg.norm(err,'fro')/(onp.sqrt(N_test))\n",
    "    test_err_2_all.append(err_2)\n",
    "    err_inf = onp.max(err)\n",
    "    test_err_inf_all.append(err_inf)\n",
    "\n",
    "    print(f'[L infinity error] train {train_err_inf_all[-1]}, test {test_err_inf_all[-1]}')\n",
    "    print(f'[L2 error] train {train_err_2_all[-1]}, test {test_err_2_all[-1]}')"
   ]
  }
 ],
 "metadata": {
  "kernelspec": {
   "display_name": "Python 3 (ipykernel)",
   "language": "python",
   "name": "python3"
  },
  "language_info": {
   "codemirror_mode": {
    "name": "ipython",
    "version": 3
   },
   "file_extension": ".py",
   "mimetype": "text/x-python",
   "name": "python",
   "nbconvert_exporter": "python",
   "pygments_lexer": "ipython3",
   "version": "3.8.12"
  }
 },
 "nbformat": 4,
 "nbformat_minor": 5
}
