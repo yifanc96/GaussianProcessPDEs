{
 "cells": [
  {
   "cell_type": "code",
   "execution_count": 1,
   "id": "7b1b6444",
   "metadata": {},
   "outputs": [
    {
     "data": {
      "text/plain": [
       "emcee_Run"
      ]
     },
     "metadata": {},
     "output_type": "display_data"
    }
   ],
   "source": [
    "include(\"../CovarianceFunctions/CovarianceFunctions.jl\")\n",
    "include(\"./MCMC.jl\")"
   ]
  },
  {
   "cell_type": "code",
   "execution_count": 2,
   "id": "12a75916",
   "metadata": {},
   "outputs": [],
   "source": [
    "using LinearAlgebra\n",
    "using Logging\n",
    "using PyPlot\n",
    "using Distributions\n",
    "using KernelDensity\n",
    "using ReverseDiff\n",
    "using StatsBase"
   ]
  },
  {
   "cell_type": "code",
   "execution_count": 3,
   "id": "06580b5e",
   "metadata": {},
   "outputs": [
    {
     "data": {
      "text/plain": [
       "LaplaceApprox (generic function with 1 method)"
      ]
     },
     "execution_count": 3,
     "metadata": {},
     "output_type": "execute_result"
    }
   ],
   "source": [
    "## PDEs type\n",
    "abstract type AbstractPDEs end\n",
    "struct NonlinElliptic1d{Tα,Tm,TΩ} <: AbstractPDEs\n",
    "    # eqn: -Δu + α*u^m = f in [Ω[1],Ω[2]]\n",
    "    α::Tα\n",
    "    m::Tm\n",
    "    Ω::TΩ\n",
    "    bdy::Function\n",
    "    rhs::Function\n",
    "end\n",
    "\n",
    "\n",
    "## Sample points\n",
    "function sample_points_rdm(eqn::NonlinElliptic1d, N_domain)\n",
    "    Ω = eqn.Ω\n",
    "    xl = Ω[1]\n",
    "    xr = Ω[2]  \n",
    "\n",
    "    X_domain = rand(Float64,(N_domain, 1))*(xr-xl) + xl\n",
    "    X_boundary = [xl,xr]\n",
    "\n",
    "    return X_domain, X_boundary\n",
    "end\n",
    "function sample_points_grid(eqn::NonlinElliptic1d, h_in)\n",
    "    Ω = eqn.Ω\n",
    "    xl = Ω[1]\n",
    "    xr = Ω[2]\n",
    "   \n",
    "    X_domain = [x for x in  xl + h_in:h_in:xr-h_in]\n",
    "    X_boundary = [xl,xr]\n",
    "    return X_domain, X_boundary\n",
    "end\n",
    "\n",
    "\n",
    "## Algorithms\n",
    "# assemby Gram matrices\n",
    "function get_Gram_matrices(eqn::NonlinElliptic1d, cov::AbstractCovarianceFunction, X_domain, X_boundary)\n",
    "    \n",
    "    d = 1\n",
    "    N_domain = size(X_domain)[1]\n",
    "    N_boundary = size(X_boundary)[1]\n",
    "\n",
    "    Δδ_coefs = -1.0\n",
    "\n",
    "    meas_δ_bd = [PointMeasurement{d}(SVector{d,Float64}(X_boundary[i])) for i = 1:N_boundary]\n",
    "    meas_δ_int = [PointMeasurement{d}(SVector{d,Float64}(X_domain[i])) for i = 1:N_domain]\n",
    "    meas_Δδ = [ΔδPointMeasurement{Float64,d}(SVector{d,Float64}(X_domain[i]), Δδ_coefs, 0.0) for i = 1:N_domain]\n",
    "\n",
    "    measurements = Vector{Vector{<:AbstractPointMeasurement}}(undef,3)\n",
    "    measurements[1] = meas_δ_bd; measurements[2] = meas_δ_int; measurements[3] = meas_Δδ\n",
    "\n",
    "    Theta_big = zeros(2*N_domain+N_boundary,2*N_domain+N_boundary)\n",
    "    cov(Theta_big, reduce(vcat,measurements))\n",
    "    return Theta_big\n",
    "end\n",
    "\n",
    "function get_Gram_matrices(eqn::NonlinElliptic1d, cov::AbstractCovarianceFunction, X_domain, X_boundary, sol_now)\n",
    "\n",
    "    d = 1\n",
    "    N_domain = size(X_domain)[1]\n",
    "    N_boundary = size(X_boundary)[1]\n",
    "    Δδ_coefs = -1.0\n",
    "    δ_coefs_int = eqn.α*eqn.m*(sol_now.^(eqn.m-1)) \n",
    "\n",
    "    # get linearized PDEs correponding measurements\n",
    "    meas_δ = [PointMeasurement{d}(SVector{d,Float64}(X_boundary[i])) for i = 1:N_boundary]\n",
    "    meas_Δδ = [ΔδPointMeasurement{Float64,d}(SVector{d,Float64}(X_domain[i]), Δδ_coefs, δ_coefs_int[i]) for i = 1:N_domain]\n",
    "    meas_test_int = [PointMeasurement{d}(SVector{d,Float64}(X_domain[i])) for i = 1:N_domain]\n",
    "\n",
    "    Theta_train = zeros(N_domain+N_boundary,N_domain+N_boundary)\n",
    "\n",
    "    measurements = Vector{Vector{<:AbstractPointMeasurement}}(undef,2)\n",
    "    measurements[1] = meas_δ; measurements[2] = meas_Δδ\n",
    "    cov(Theta_train, reduce(vcat,measurements))\n",
    "    \n",
    "    Theta_test = zeros(N_domain,N_domain+N_boundary)\n",
    "\n",
    "    cov(Theta_test, meas_test_int, reduce(vcat,measurements))\n",
    "    return Theta_train, Theta_test\n",
    "end\n",
    "function  get_initial_covariance(cov::AbstractCovarianceFunction, X_domain, X_boundary)\n",
    "    d = 1\n",
    "    N_domain = size(X_domain)[1]\n",
    "    N_boundary = size(X_boundary)[1]\n",
    "    meas_δ_bd = [PointMeasurement{d}(SVector{d,Float64}(X_boundary[i])) for i = 1:N_boundary]\n",
    "    meas_δ_int = [PointMeasurement{d}(SVector{d,Float64}(X_domain[i])) for i = 1:N_domain]\n",
    "    Theta_initial = zeros(N_domain+N_boundary,N_domain+N_boundary)\n",
    "    measurements = Vector{Vector{<:AbstractPointMeasurement}}(undef,2)\n",
    "    measurements[1] = meas_δ_bd; measurements[2] = meas_δ_int\n",
    "    cov(Theta_initial, reduce(vcat,measurements))\n",
    "    return Theta_initial\n",
    "end\n",
    "function  get_initial_covariance(cov::AbstractCovarianceFunction, X_domain)\n",
    "    d = 1\n",
    "    N_domain = size(X_domain)[1]\n",
    "\n",
    "    meas_δ_int = [PointMeasurement{d}(SVector{d,Float64}(X_domain[i])) for i = 1:N_domain]\n",
    "\n",
    "    Theta_initial = zeros(N_domain,N_domain)\n",
    "    cov(Theta_initial, meas_δ_int)\n",
    "    return Theta_initial\n",
    "end\n",
    "\n",
    "\n",
    "# Kalman-Laplace Approximation\n",
    "function KalmanLaplaceApprox(eqn, cov, X_domain, X_boundary, sol_init, noise_var_int, noise_var_bd, GNsteps; nugget = 1e-14)\n",
    "    N_domain = size(X_domain)[1]\n",
    "    N_boundary = size(X_boundary)[1]\n",
    "\n",
    "    # get the rhs and bdy data\n",
    "    # rhs = [eqn.rhs(X_domain[i]) for i in 1:N_domain] .+ sqrt(noise_var_int) * randn(N_domain)\n",
    "    # bdy = [eqn.bdy(X_boundary[i]) for i in 1:N_boundary] .+ sqrt(noise_var_bd) * randn(N_boundary)\n",
    "\n",
    "    rhs = [eqn.rhs(X_domain[i]) for i in 1:N_domain] .+ sqrt(noise_var_int) * randn(N_domain)\n",
    "    bdy = [eqn.bdy(X_boundary[i]) for i in 1:N_boundary] .+ sqrt(noise_var_bd) * randn(N_boundary)\n",
    "\n",
    "    Theta_train = zeros(N_domain+N_boundary, N_domain+N_boundary) \n",
    "    Theta_test = zeros(N_domain,N_domain+N_boundary)\n",
    "\n",
    "    v = sol_init\n",
    "    rhs_now = vcat(bdy, rhs.+eqn.α*(eqn.m-1)*v.^eqn.m)\n",
    "    noise_cov = diagm(vcat([noise_var_bd for _ in 1:N_boundary], [noise_var_int for _ in 1:N_domain]))\n",
    "    for _ in 1:GNsteps\n",
    "        Theta_train, Theta_test = get_Gram_matrices(eqn, cov, X_domain, X_boundary, v)\n",
    "        rhs_now = vcat(bdy, rhs.+eqn.α*(eqn.m-1)*v.^eqn.m)\n",
    "        v = Theta_test*(((Theta_train+noise_cov+nugget*diagm(diag(Theta_train))))\\rhs_now)\n",
    "    end\n",
    "\n",
    "    MAP = v\n",
    "    Cov_init = get_initial_covariance(cov, X_domain) # only consider UQ of domain pts\n",
    "    Cov_posterior = Cov_init .- Theta_test*(((Theta_train+noise_cov+nugget*diagm(diag(Theta_train))))\\Theta_test')\n",
    "    approx_rkhs_norm2 = rhs_now'* (((Theta_train+noise_cov+nugget*diagm(diag(Theta_train))))\\rhs_now)\n",
    "    return MAP, Cov_posterior, approx_rkhs_norm2\n",
    "end \n",
    "\n",
    "\n",
    "function log_post_GP_PDE(eqn, cov, X_domain, X_boundary; nugget = 1e-14)\n",
    "\n",
    "    N_domain = size(X_domain)[1]\n",
    "    N_boundary = size(X_boundary)[1]\n",
    "\n",
    "    # get the rhs and bdy data\n",
    "    rhs = [eqn.rhs(X_domain[i]) for i in 1:N_domain] .+ sqrt(noise_var_int) * randn(N_domain)\n",
    "    bdy = [eqn.bdy(X_boundary[i]) for i in 1:N_boundary] .+ sqrt(noise_var_bd) * randn(N_boundary)\n",
    "    Theta_big = zeros(2*N_domain+N_boundary, 2*N_domain+N_boundary)\n",
    "    Theta_big = get_Gram_matrices(eqn, cov, X_domain, X_boundary)\n",
    "    U = cholesky(Theta_big+nugget*diagm(diag(Theta_big))).U  #Theta = U'*U\n",
    "\n",
    "    function d_log_post(z)\n",
    "        Z = vcat(bdy,z,rhs.-eqn.α*z.^eqn.m)\n",
    "        tmp = U\\(U'\\Z)\n",
    "        return -0.5*Z'*tmp, -tmp[N_boundary+1:N_boundary+N_domain] + eqn.α*eqn.m*(z.^(eqn.m-1)).*tmp[N_boundary+N_domain+1:end]\n",
    "    end\n",
    "    return d_log_post\n",
    "end\n",
    "\n",
    "\n",
    "function hessian_log_post_GP_PDE(eqn, cov, X_domain, X_boundary; nugget = 1e-9)\n",
    "    N_domain = size(X_domain)[1]\n",
    "    N_boundary = size(X_boundary)[1]\n",
    "\n",
    "    # get the rhs and bdy data\n",
    "    rhs = [eqn.rhs(X_domain[i]) for i in 1:N_domain] .+ sqrt(noise_var_int) * randn(N_domain)\n",
    "    bdy = [eqn.bdy(X_boundary[i]) for i in 1:N_boundary] .+ sqrt(noise_var_bd) * randn(N_boundary)\n",
    "    Theta_big = zeros(2*N_domain+N_boundary, 2*N_domain+N_boundary)\n",
    "    Theta_big = get_Gram_matrices(eqn, cov, X_domain, X_boundary)\n",
    "    inv_Theta_big = inv(Theta_big + nugget*diagm(diag(Theta_big)))\n",
    "    function log_post(z)\n",
    "        Z = vcat(bdy,z,rhs.-eqn.α*z.^eqn.m)\n",
    "        return -0.5*Z'*inv_Theta_big*Z\n",
    "    end\n",
    "                                                                \n",
    "    function hessian_log_post(z)\n",
    "        Z = vcat(bdy,z,rhs.-eqn.α*z.^eqn.m)\n",
    "        grad_Z = vcat(zeros(N_boundary,N_domain), Matrix(1.0*I,N_domain,N_domain), -eqn.α*eqn.m*diagm(z.^(eqn.m-1)))\n",
    "        hess = grad_Z'*(Theta_big\\grad_Z)\n",
    "        for i = 1:N_domain\n",
    "            for j = 1:2*N_domain+N_boundary\n",
    "                hess[i,i] += inv_Theta_big[N_domain+N_boundary+i, j]*Z[j]*(-eqn.α)*eqn.m*(eqn.m-1)*z[i]^(eqn.m-2)\n",
    "            end\n",
    "        end    \n",
    "        return -hess\n",
    "    end\n",
    "#     function hessian_log_post(z)\n",
    "#         return ReverseDiff.hessian(log_post,z)\n",
    "#     end\n",
    "    return log_post, hessian_log_post\n",
    "end\n",
    "                                                            \n",
    "#     U = cholesky(Theta_big+nugget*diagm(diag(Theta_big))).U  #Theta = U'*U\n",
    "    \n",
    "#     function log_post(z)\n",
    "#         Z = vcat(bdy,z,rhs.-eqn.α*z.^eqn.m)\n",
    "#         tmp = U\\(U'\\Z)\n",
    "#         return -0.5*Z'*tmp\n",
    "#     end\n",
    "\n",
    "#     function hessian_log_post(z)\n",
    "#         return ReverseDiff.hessian(log_post,z)\n",
    "#     end\n",
    "\n",
    "#     return log_post, hessian_log_post\n",
    "                                                        \n",
    "                                                                \n",
    "\n",
    "function LaplaceApprox(eqn, cov, X_domain, X_boundary, sol_init, noise_var_int, noise_var_bd, GNsteps; nugget = 1e-14)\n",
    "    N_domain = size(X_domain)[1]\n",
    "    N_boundary = size(X_boundary)[1]\n",
    "\n",
    "    rhs = [eqn.rhs(X_domain[i]) for i in 1:N_domain] .+ sqrt(noise_var_int) * randn(N_domain)\n",
    "    bdy = [eqn.bdy(X_boundary[i]) for i in 1:N_boundary] .+ sqrt(noise_var_bd) * randn(N_boundary)\n",
    "\n",
    "    Theta_train = zeros(N_domain+N_boundary, N_domain+N_boundary) \n",
    "    Theta_test = zeros(N_domain,N_domain+N_boundary)\n",
    "\n",
    "    v = sol_init\n",
    "    rhs_now = vcat(bdy, rhs.+eqn.α*(eqn.m-1)*v.^eqn.m)\n",
    "    noise_cov = diagm(vcat([noise_var_bd for _ in 1:N_boundary], [noise_var_int for _ in 1:N_domain]))\n",
    "    for _ in 1:GNsteps\n",
    "        Theta_train, Theta_test = get_Gram_matrices(eqn, cov, X_domain, X_boundary, v)\n",
    "        rhs_now = vcat(bdy, rhs.+eqn.α*(eqn.m-1)*v.^eqn.m)\n",
    "        v = Theta_test*(((Theta_train+noise_cov+nugget*diagm(diag(Theta_train))))\\rhs_now)\n",
    "    end\n",
    "\n",
    "    MAP = v\n",
    "    _, hessian_log_post = hessian_log_post_GP_PDE(eqn, cov, X_domain, X_boundary)\n",
    "    hessian_mtx = -hessian_log_post(MAP)\n",
    "    Cov_posterior = inv(hessian_mtx)\n",
    "    return MAP, Cov_posterior\n",
    "end "
   ]
  },
  {
   "cell_type": "code",
   "execution_count": 84,
   "id": "fee4c98a",
   "metadata": {},
   "outputs": [
    {
     "data": {
      "text/plain": [
       "NonlinElliptic1d{Float64, Int64, Vector{Int64}}(10.0, 3, [0, 1], fun_bdy, fun_rhs)"
      ]
     },
     "execution_count": 84,
     "metadata": {},
     "output_type": "execute_result"
    }
   ],
   "source": [
    "### parameters\n",
    "α = 10.0\n",
    "m = 3\n",
    "Ω = [0,1]\n",
    "h_in = 0.02\n",
    "lengthscale = 0.3\n",
    "kernel = \"Matern7half\"\n",
    "cov = MaternCovariance7_2(lengthscale)\n",
    "# cov = GaussianCovariance(lengthscale)\n",
    "noise_var_int = 0.0\n",
    "noise_var_bd = 0.0\n",
    "GNsteps = 10\n",
    "\n",
    "\n",
    "function fun_u(x)\n",
    "    return sin(2*pi*x)\n",
    "end\n",
    "\n",
    "function fun_rhs(x)\n",
    "    ans = 4*pi^2*sin(2*pi*x)\n",
    "#     ans = ReverseDiff.hessian(fun_u,x)\n",
    "    return ans + α*fun_u(x)^m \n",
    "end\n",
    "        \n",
    "# boundary value\n",
    "function fun_bdy(x)\n",
    "    return fun_u(x)\n",
    "end\n",
    "\n",
    "eqn = NonlinElliptic1d(α,m,Ω,fun_bdy,fun_rhs)"
   ]
  },
  {
   "cell_type": "code",
   "execution_count": 85,
   "id": "cf8cb6f2",
   "metadata": {},
   "outputs": [
    {
     "name": "stdout",
     "output_type": "stream",
     "text": [
      "  0.059211 seconds (149.13 k allocations: 5.698 MiB, 23.85% gc time, 31.40% compilation time)\n",
      "  0.024956 seconds (140.93 k allocations: 4.707 MiB)\n"
     ]
    },
    {
     "name": "stderr",
     "output_type": "stream",
     "text": [
      "┌ Info: [L2 accuracy of MAP to true sol] 5.9889507837353816e-5\n",
      "└ @ Main In[85]:11\n",
      "┌ Info: [Linf accuracy of MAP to true sol] 7.474180441905663e-5\n",
      "└ @ Main In[85]:13\n"
     ]
    },
    {
     "data": {
      "text/plain": [
       "49-element Vector{Float64}:\n",
       " 0.0005965683777865022\n",
       " 0.0009972931266374588\n",
       " 0.0013849428559355036\n",
       " 0.0017237469152150242\n",
       " 0.002018298003892958\n",
       " 0.0022724622527469816\n",
       " 0.002492565025857083\n",
       " 0.0026856613475952427\n",
       " 0.0028591707590847476\n",
       " 0.0030203400795154717\n",
       " 0.0031758081937091295\n",
       " 0.0033312184271450896\n",
       " 0.003490901445189122\n",
       " ⋮\n",
       " 0.0033312184271909883\n",
       " 0.0031758081936964244\n",
       " 0.003020340079555956\n",
       " 0.002859170759101739\n",
       " 0.0026856613475894344\n",
       " 0.0024925650257677802\n",
       " 0.002272462252720833\n",
       " 0.0020182980038198047\n",
       " 0.0017237469152942898\n",
       " 0.0013849428559421092\n",
       " 0.0009972931263072717\n",
       " 0.0005965683775589266"
      ]
     },
     "execution_count": 85,
     "metadata": {},
     "output_type": "execute_result"
    }
   ],
   "source": [
    "X_domain, X_boundary = sample_points_grid(eqn, h_in)\n",
    "N_domain = size(X_domain)[1]\n",
    "N_boundary = size(X_boundary)[1]\n",
    "\n",
    "sol_init = zeros(N_domain) # initial solution\n",
    "truth = [fun_u(X_domain[i]) for i in 1:N_domain]\n",
    "\n",
    "@time MAP, KalmanLaplace_postvar, rkhs_norm2 = KalmanLaplaceApprox(eqn, cov, X_domain, X_boundary, sol_init, noise_var_int, noise_var_bd, GNsteps)\n",
    "\n",
    "pts_accuracy = sqrt(sum((truth-MAP).^2)/sum(truth.^2))\n",
    "@info \"[L2 accuracy of MAP to true sol] $pts_accuracy\"\n",
    "pts_max_accuracy = maximum(abs.(truth-MAP))/maximum(abs.(truth))\n",
    "@info \"[Linf accuracy of MAP to true sol] $pts_max_accuracy\"\n",
    "\n",
    "sol_std_Kalman = [sqrt(abs(KalmanLaplace_postvar[i,i])) for i in 1:N_domain]\n",
    "\n",
    "@time MAP_Laplace, Laplace_postvar = LaplaceApprox(eqn, cov, X_domain, X_boundary, sol_init, noise_var_int, noise_var_bd, GNsteps)\n",
    "\n",
    "# post_mtx = 1/2*(Laplace_postvar+Laplace_postvar')\n",
    "# post_U = cholesky(post_mtx+1e-8*diagm(diag(post_mtx))).U\n",
    "\n",
    "sol_std = [sqrt(abs(Laplace_postvar[i,i])) for i in 1:N_domain]"
   ]
  },
  {
   "cell_type": "code",
   "execution_count": 87,
   "id": "2a1fe79e",
   "metadata": {},
   "outputs": [
    {
     "data": {
      "image/png": "[encoded data removed]",
      "text/plain": [
       "Figure(PyObject <Figure size 1000x500 with 2 Axes>)"
      ]
     },
     "metadata": {},
     "output_type": "display_data"
    },
    {
     "data": {
      "text/plain": [
       "PyObject <matplotlib.legend.Legend object at 0x7f01041e84c0>"
      ]
     },
     "execution_count": 87,
     "metadata": {},
     "output_type": "execute_result"
    }
   ],
   "source": [
    "fig_approx = figure(figsize=(10,5))\n",
    "subplot(121)\n",
    "plot(X_domain, MAP, label = \"MAP\")\n",
    "legend()\n",
    "subplot(122)\n",
    "plot(X_domain, sol_std_Kalman, label = \"std_Kalman\")\n",
    "plot(X_domain, sol_std, label = \"std_Laplace\")\n",
    "legend()"
   ]
  },
  {
   "cell_type": "code",
   "execution_count": 7,
   "id": "0e8d185b",
   "metadata": {},
   "outputs": [],
   "source": [
    "# test convergence in the Gaussian case\n",
    "\n",
    "# emcee_ite = 10^3\n",
    "# log_post, hessian_log_post = hessian_log_post_GP_PDE(eqn, cov, X_domain, X_boundary; nugget = 1e-14)\n",
    "# ensemble_size = 20*N_domain\n",
    "# θ0 = zeros(ensemble_size, N_domain)\n",
    "# for i in 1:ensemble_size\n",
    "#     θ0[i,:] = MAP + rand(Normal(0,1), N_domain)\n",
    "# end\n",
    "\n",
    "# for it in 1:100\n",
    "#     emcee_samples = emcee_Run(log_post, θ0, emcee_ite*it)\n",
    "#     std_emcmc = std(emcee_samples[emcee_ite÷4:end,:,:], dims=[1,2])\n",
    "#     println(mean(abs.(std_emcmc[:] .- sol_std)./abs.(sol_std)))\n",
    "#     mean_emcmc = mean(emcee_samples[emcee_ite÷4:end,:,:], dims=[1,2])\n",
    "#     println(mean(abs.(mean_emcmc[:] .- MAP)./abs.(MAP)))\n",
    "#     flush(stdout)\n",
    "# end"
   ]
  },
  {
   "cell_type": "code",
   "execution_count": 71,
   "id": "4d3c2802",
   "metadata": {},
   "outputs": [
    {
     "ename": "LoadError",
     "evalue": "InterruptException:",
     "output_type": "error",
     "traceback": [
      "InterruptException:",
      "",
      "Stacktrace:",
      "  [1] Array",
      "    @ ./boot.jl:457 [inlined]",
      "  [2] Array",
      "    @ ./boot.jl:466 [inlined]",
      "  [3] similar",
      "    @ ./array.jl:378 [inlined]",
      "  [4] similar",
      "    @ ./abstractarray.jl:783 [inlined]",
      "  [5] _unsafe_getindex",
      "    @ ./multidimensional.jl:851 [inlined]",
      "  [6] _getindex",
      "    @ ./multidimensional.jl:839 [inlined]",
      "  [7] getindex",
      "    @ ./abstractarray.jl:1218 [inlined]",
      "  [8] emcee_Run(log_bayesian_posterior::var\"#log_post#97\"{NonlinElliptic1d{Float64, Int64, Vector{Int64}}, Matrix{Float64}, Vector{Float64}, Vector{Float64}}, θ0::Matrix{Float64}, n_ite::Int64; random_split::Bool, a::Float64, seed::Int64)",
      "    @ Main ~/research/GaussianProcessPDEs.jl/UncertaintyQuantification/MCMC.jl:285",
      "  [9] emcee_Run(log_bayesian_posterior::Function, θ0::Matrix{Float64}, n_ite::Int64)",
      "    @ Main ~/research/GaussianProcessPDEs.jl/UncertaintyQuantification/MCMC.jl:249",
      " [10] top-level scope",
      "    @ In[71]:8",
      " [11] eval",
      "    @ ./boot.jl:373 [inlined]",
      " [12] include_string(mapexpr::typeof(REPL.softscope), mod::Module, code::String, filename::String)",
      "    @ Base ./loading.jl:1196"
     ]
    }
   ],
   "source": [
    "emcee_ite = 10^5\n",
    "log_post, hessian_log_post = hessian_log_post_GP_PDE(eqn, cov, X_domain, X_boundary; nugget = 1e-14)\n",
    "ensemble_size = 4*N_domain\n",
    "θ0 = zeros(ensemble_size, N_domain)\n",
    "for i in 1:ensemble_size\n",
    "    θ0[i,:] = MAP + rand(Normal(0,1), N_domain)\n",
    "end\n",
    "emcee_samples = emcee_Run(log_post, θ0, emcee_ite)"
   ]
  },
  {
   "cell_type": "code",
   "execution_count": 68,
   "id": "0fda8d9a",
   "metadata": {},
   "outputs": [
    {
     "name": "stdout",
     "output_type": "stream",
     "text": [
      "0.1003913487653271\n",
      "0.05605578884588779\n"
     ]
    }
   ],
   "source": [
    "mean_emcmc = mean(emcee_samples[emcee_ite÷4:end,:,:], dims=[1,2])\n",
    "# std_emcmc = std(emcee_samples[emcee_ite÷4:end,:,:], dims=[1,2])\n",
    "moments_emcmc = mean(emcee_samples[emcee_ite÷4:end,:,:].^2, dims=[1,2])\n",
    "moments_Gaussian = sol_std.^2 + MAP.^2\n",
    "println(sum(abs.(moments_emcmc[:]-moments_Gaussian))./sum(abs.(moments_Gaussian)))\n",
    "# println(sum(abs.(std_emcmc[:] .- sol_std))./sum(abs.(sol_std)))\n",
    "println(sum(abs.(mean_emcmc[:] .- MAP))./sum(abs.(MAP)))"
   ]
  },
  {
   "cell_type": "code",
   "execution_count": 70,
   "id": "d7fe9341",
   "metadata": {},
   "outputs": [
    {
     "data": {
      "text/plain": [
       "49-element Vector{Float64}:\n",
       " -0.012452609280433945\n",
       " -0.022928184998565616\n",
       " -0.007037903130982126\n",
       "  0.04492019767322092\n",
       "  0.06771801206038697\n",
       "  0.0743646662917053\n",
       "  0.1209179281776247\n",
       "  0.1405408845162175\n",
       "  0.08161988513332985\n",
       " -0.017672658561338705\n",
       " -0.05535564798529513\n",
       " -0.004869494974897304\n",
       "  0.07987516828763974\n",
       "  ⋮\n",
       " -0.044453999146146006\n",
       " -0.08090466124855455\n",
       " -0.10990664990711307\n",
       " -0.09884698072815856\n",
       " -0.06557079447951641\n",
       " -0.058477998297829625\n",
       " -0.033187302072271274\n",
       " -0.010546219789603295\n",
       " -0.0008700242748441722\n",
       "  0.008360176275988146\n",
       "  0.01388276822787636\n",
       "  0.013006785919406027"
      ]
     },
     "execution_count": 70,
     "metadata": {},
     "output_type": "execute_result"
    }
   ],
   "source": [
    "moments_emcmc[:] - moments_Gaussian"
   ]
  },
  {
   "cell_type": "code",
   "execution_count": 64,
   "id": "da8b9b35",
   "metadata": {},
   "outputs": [
    {
     "data": {
      "image/png": "[encoded data removed]",
      "text/plain": [
       "Figure(PyObject <Figure size 640x480 with 1 Axes>)"
      ]
     },
     "metadata": {},
     "output_type": "display_data"
    },
    {
     "data": {
      "text/plain": [
       "PyObject <matplotlib.legend.Legend object at 0x7efd50fae3a0>"
      ]
     },
     "execution_count": 64,
     "metadata": {},
     "output_type": "execute_result"
    }
   ],
   "source": [
    "idx = N_domain\n",
    "kde_data = reshape(emcee_samples[emcee_ite÷4:end,:,idx], prod(size(emcee_samples[emcee_ite÷4:end,:,idx])))\n",
    "emcee_density_mcmc = kde(kde_data)\n",
    "plot(emcee_density_mcmc.x,emcee_density_mcmc.density, label = \"emceeMCMC\")\n",
    "# sns.kdeplot(data[:,0], ax=axs[0], label='truth', color='black', log_scale=(0,10))\n",
    "\n",
    "gmean = MAP[idx]\n",
    "gstd = sol_std[idx]\n",
    "x = emcee_density_mcmc.x\n",
    "density_gaussian_y = 1/(sqrt(2*pi)*gstd)*exp.(-(x.-gmean).^2/(2*gstd^2))\n",
    "plot(x, density_gaussian_y, label = \"Laplace\")\n",
    "legend()"
   ]
  },
  {
   "cell_type": "code",
   "execution_count": null,
   "id": "22f38945",
   "metadata": {},
   "outputs": [],
   "source": []
  },
  {
   "cell_type": "code",
   "execution_count": null,
   "id": "7358776d",
   "metadata": {},
   "outputs": [],
   "source": []
  }
 ],
 "metadata": {
  "kernelspec": {
   "display_name": "Julia 1.6.0",
   "language": "julia",
   "name": "julia-1.6"
  },
  "language_info": {
   "file_extension": ".jl",
   "mimetype": "application/julia",
   "name": "julia",
   "version": "1.6.0"
  }
 },
 "nbformat": 4,
 "nbformat_minor": 5
}
