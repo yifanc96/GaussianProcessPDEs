{
 "cells": [
  {
   "cell_type": "code",
   "execution_count": 1,
   "id": "0e03b677",
   "metadata": {},
   "outputs": [],
   "source": [
    "import jax.numpy as jnp\n",
    "from jax import grad, vmap, hessian\n",
    "\n",
    "import jax.ops as jop\n",
    "from jax.config import config; \n",
    "config.update(\"jax_enable_x64\", True)\n",
    "\n",
    "# numpy\n",
    "import numpy as onp\n",
    "from numpy import random \n",
    "\n",
    "# Plot\n",
    "import matplotlib.pyplot as plt"
   ]
  },
  {
   "cell_type": "markdown",
   "id": "a65df809",
   "metadata": {},
   "source": [
    "We solve the following Burgers equation \n",
    "\\begin{equation*}\n",
    "\\begin{aligned}\n",
    "& u_t+ u u_x-\\nu u_{xx}=0, x \\in [-1,1], t \\in [0,1]\\\\\n",
    "& u(0,x)=-\\sin(\\pi x)\\\\\n",
    "& u(t,-1)=u(t,1)=0\n",
    "\\end{aligned}\n",
    "\\end{equation*}\n",
    "The parameter $\\nu$ controls the shock."
   ]
  },
  {
   "cell_type": "code",
   "execution_count": 2,
   "id": "48daea86",
   "metadata": {},
   "outputs": [],
   "source": [
    "# fix random seeds, for generating reference solution & sampled points\n",
    "# random.seed(20)\n",
    "\n",
    "# we will use x=(x1,x2) as (t,x)\n",
    "\n",
    "nu = 0.01/jnp.pi\n",
    "\n",
    "# boundary condition\n",
    "def u(x1, x2):\n",
    "    return -jnp.sin(jnp.pi*x2)*(x1==0) + 0*(x2==0)\n",
    "\n",
    "def u_x(x1, x2):\n",
    "    return -jnp.pi*jnp.cos(jnp.pi*x2)*(x1==0) + 0*(x2==0)\n",
    "\n",
    "def u_xx(x1, x2):\n",
    "    return (jnp.pi**2)*jnp.sin(jnp.pi*x2)*(x1==0) + 0*(x2==0)\n",
    "\n",
    "# right hand side\n",
    "def f(x1, x2):\n",
    "    return 0"
   ]
  },
  {
   "cell_type": "code",
   "execution_count": 3,
   "id": "c8b9b798",
   "metadata": {},
   "outputs": [],
   "source": [
    "# obtain the ground truth solution via the Cole-Hopf transformation\n",
    "# we use numerical integration to get the true solution\n",
    "\n",
    "[Gauss_pts, weights] = onp.polynomial.hermite.hermgauss(80)\n",
    "\n",
    "def u_true(x1, x2):\n",
    "    temp = x2-jnp.sqrt(4*nu*x1)*Gauss_pts\n",
    "    val1 = weights * jnp.sin(jnp.pi*temp) * jnp.exp(-jnp.cos(jnp.pi*temp)/(2*jnp.pi*nu))\n",
    "    val2 = weights * jnp.exp(-jnp.cos(jnp.pi*temp)/(2*jnp.pi*nu))\n",
    "    return -jnp.sum(val1)/jnp.sum(val2)\n"
   ]
  },
  {
   "cell_type": "code",
   "execution_count": 4,
   "id": "0ecf9905",
   "metadata": {},
   "outputs": [],
   "source": [
    "# set the time stepping size\n",
    "\n",
    "dt = 1e-2\n",
    "T = 1\n",
    "num_pts = 50"
   ]
  },
  {
   "cell_type": "code",
   "execution_count": 5,
   "id": "49ce6ebe",
   "metadata": {},
   "outputs": [
    {
     "data": {
      "image/png": "[encoded data removed]",
      "text/plain": [
       "<Figure size 432x288 with 1 Axes>"
      ]
     },
     "metadata": {
      "needs_background": "light"
     },
     "output_type": "display_data"
    }
   ],
   "source": [
    "def sample_points(num_pts, dt, T, option = 'grid'):\n",
    "    Nt = int(T/dt)+1\n",
    "    X_domain = onp.zeros((Nt,num_pts,2))\n",
    "    X_boundary = onp.zeros((Nt,2,2))\n",
    "    if option == 'grid':\n",
    "        for i in range(Nt):\n",
    "            X_domain[i,:,0] = i*dt\n",
    "            X_domain[i,:,1] = onp.linspace(-1.0,1.0, num_pts)\n",
    "            X_boundary[i,:,0] = i*dt\n",
    "            X_boundary[i,:,1] = [-1.0,1.0]\n",
    "    return X_domain, X_boundary\n",
    "\n",
    "# demonstration: show the collocation points\n",
    "X_domain, X_boundary = sample_points(num_pts, dt, T, option = 'grid')\n",
    "X_domain_tot = onp.reshape(X_domain[1:,:,:], (-1,2))\n",
    "X_boundary_tot = onp.concatenate((onp.reshape(X_domain[0,:,:],(-1,2)), onp.reshape(X_boundary, (-1,2))),axis = 0)\n",
    "fig, ax = plt.subplots()\n",
    "ax.scatter(X_domain_tot[:, 1], X_domain_tot[:, 0], label='Interior nodes')\n",
    "ax.scatter(X_boundary_tot[:, 1], X_boundary_tot[:, 0], label='Boundary nodes')\n",
    "ax.legend(loc=\"upper right\")\n",
    "ax.set_xlabel('x')\n",
    "ax.set_ylabel('t')\n",
    "plt.title('sampled collocation points')\n",
    "plt.show()"
   ]
  },
  {
   "cell_type": "code",
   "execution_count": 6,
   "id": "400b7467",
   "metadata": {},
   "outputs": [],
   "source": [
    "def kappa(x1,y1,sigma):\n",
    "    return jnp.exp(-(x1-y1)**2/(2*sigma**2))\n",
    "\n",
    "def D_y1_kappa(x1,y1, sigma):\n",
    "    val = grad(kappa,1)(x1, y1, sigma)\n",
    "    return val\n",
    "\n",
    "def Delta_y1_kappa(x1,y1, sigma):\n",
    "    val = grad(D_y1_kappa,1)(x1, y1, sigma)\n",
    "    return val\n",
    "\n",
    "\n",
    "def D_x1_kappa(x1,y1, sigma):\n",
    "    val = grad(kappa,0)(x1, y1, sigma)\n",
    "    return val\n",
    "\n",
    "def D_x1_D_y1_kappa(x1,y1, sigma):\n",
    "    val = grad(D_x1_kappa,1)(x1, y1, sigma)\n",
    "    return val\n",
    "\n",
    "def D_x1_Delta_y1_kappa(x1,y1, sigma):\n",
    "    val = grad(Delta_y1_kappa,0)(x1, y1, sigma)\n",
    "    return val\n",
    "\n",
    "\n",
    "def Delta_x1_kappa(x1,y1, sigma):\n",
    "    val = grad(D_x1_kappa,0)(x1, y1, sigma)\n",
    "    return val\n",
    "\n",
    "def Delta_x1_D_y1_kappa(x1,y1, sigma):\n",
    "    val = grad(Delta_x1_kappa,1)(x1, y1, sigma)\n",
    "    return val\n",
    "\n",
    "def Delta_x1_Delta_y1_kappa(x1,y1, sigma):\n",
    "    val = grad(Delta_x1_D_y1_kappa,1)(x1, y1, sigma)\n",
    "    return val"
   ]
  },
  {
   "cell_type": "code",
   "execution_count": 7,
   "id": "7dbd316e",
   "metadata": {},
   "outputs": [],
   "source": [
    "def assembly_Theta(X_domain, X_boundary, nugget, sigma):\n",
    "    N_domain = onp.shape(X_domain)[0]\n",
    "    N_boundary = onp.shape(X_boundary)[0]\n",
    "    Theta = onp.zeros((3*N_domain+N_boundary, 3*N_domain+N_boundary))\n",
    "    \n",
    "    # auxiliary vector for construncting Theta\n",
    "    # domain-domain\n",
    "    XdXd = onp.tile(X_domain, (N_domain,1))\n",
    "    XdXd_T = onp.transpose(XdXd) \n",
    "    \n",
    "    XdXb1 = onp.transpose(onp.tile(X_domain,(N_domain+N_boundary,1)))\n",
    "    X_all = onp.concatenate([X_domain,X_boundary])\n",
    "    XdXb2 = onp.tile(X_all,(N_domain,1))\n",
    "    \n",
    "    XdbXdb = onp.tile(X_all,(N_domain+N_boundary,1))\n",
    "    XdbXdb_T = onp.transpose(XdbXdb)\n",
    "    \n",
    "    val = vmap(lambda x1,y1: Delta_x1_Delta_y1_kappa(x1,y1, sigma))(XdXd_T.flatten(), XdXd.flatten())\n",
    "    Theta[:N_domain,:N_domain] = onp.reshape(val, (N_domain,N_domain))\n",
    "    \n",
    "    val = vmap(lambda x1,y1: Delta_x1_D_y1_kappa(x1,y1, sigma))(XdXd_T.flatten(), XdXd.flatten())\n",
    "    Theta[:N_domain,N_domain:2*N_domain] = onp.reshape(val, (N_domain,N_domain))\n",
    "    Theta[N_domain:2*N_domain,:N_domain] = onp.transpose(onp.reshape(val, (N_domain,N_domain)))\n",
    "    \n",
    "    val = vmap(lambda x1,y1: Delta_x1_kappa(x1,y1, sigma))(XdXb1.flatten(), XdXb2.flatten())\n",
    "    Theta[:N_domain,2*N_domain:] = onp.reshape(val,(N_domain,N_domain+N_boundary))\n",
    "    Theta[2*N_domain:,:N_domain] = onp.transpose(onp.reshape(val,(N_domain,N_domain+N_boundary)))\n",
    "    \n",
    "    val = vmap(lambda x1,y1: D_x1_D_y1_kappa(x1,y1, sigma))(XdXd_T.flatten(), XdXd.flatten())\n",
    "    Theta[N_domain:2*N_domain,N_domain:2*N_domain] = onp.reshape(val, (N_domain,N_domain))\n",
    "    \n",
    "    val = vmap(lambda x1,y1: D_x1_kappa(x1,y1, sigma))(XdXb1.flatten(), XdXb2.flatten())\n",
    "    Theta[N_domain:2*N_domain,2*N_domain:] = onp.reshape(val,(N_domain,N_domain+N_boundary))\n",
    "    Theta[2*N_domain:,N_domain:2*N_domain] = onp.transpose(onp.reshape(val,(N_domain,N_domain+N_boundary)))\n",
    "    \n",
    "    val = vmap(lambda x1,y1: kappa(x1,y1, sigma))(XdbXdb_T.flatten(), XdbXdb.flatten())\n",
    "    Theta[2*N_domain:,2*N_domain:] = onp.reshape(val, (N_domain+N_boundary,N_domain+N_boundary))\n",
    "    \n",
    "    return Theta\n",
    "\n",
    "    \n",
    "def J_loss(v, rhs_f, bdy_g,L,dt):\n",
    "    N_domain = onp.shape(rhs_f)[0]\n",
    "    N_boundary = onp.shape(bdy_g)[0]\n",
    "    \n",
    "    vec_u = v[:N_domain]\n",
    "    vec_u_x = v[N_domain:]\n",
    "    vec_u_xx = (2/dt*vec_u+vec_u*vec_u_x-rhs_f)/nu\n",
    "    vv = jnp.append(vec_u_xx,vec_u_x)\n",
    "    vv = jnp.append(vv,vec_u)\n",
    "    vv = jnp.append(vv,bdy_g)\n",
    "    \n",
    "    temp = jnp.linalg.solve(L,vv)\n",
    "    return jnp.dot(temp, temp)\n",
    "\n",
    "grad_J = grad(J_loss)\n",
    "\n",
    "def GN_J(v, rhs_f, bdy_g,L, dt, v_old):\n",
    "    N_domain = onp.shape(rhs_f)[0]\n",
    "    N_boundary = onp.shape(bdy_g)[0]\n",
    "    \n",
    "    vec_u_old = v_old[:N_domain]\n",
    "    vec_u_x_old = v_old[N_domain:]\n",
    "    \n",
    "    vec_u = v[:N_domain]\n",
    "    vec_u_x = v[N_domain:]\n",
    "    vec_u_xx = (2/dt*vec_u+vec_u_old*vec_u_x+vec_u*vec_u_x_old-rhs_f)/nu\n",
    "    vv = jnp.append(vec_u_xx,vec_u_x)\n",
    "    vv = jnp.append(vv,vec_u)\n",
    "    vv = jnp.append(vv,bdy_g)\n",
    "    \n",
    "    temp = jnp.linalg.solve(L,vv)\n",
    "    return jnp.dot(temp, temp)\n",
    "\n",
    "Hessian_GN=hessian(GN_J)"
   ]
  },
  {
   "cell_type": "code",
   "execution_count": 8,
   "id": "a4724920",
   "metadata": {},
   "outputs": [],
   "source": [
    "def time_steping_solve(X_domain, X_boundary, dt,T,num_pts,step_size = 1, nugget = 1e-10, sigma=0.2, GN_iteration = 4):\n",
    "    Nt = int(T/dt)+1\n",
    "    sol_u = onp.zeros((Nt,num_pts))\n",
    "    sol_u_x = onp.zeros((Nt,num_pts))\n",
    "    sol_u_xx = onp.zeros((Nt,num_pts))\n",
    "    \n",
    "    sol_u[0,:]=vmap(u)(X_domain[0,:,0],X_domain[0,:,1])\n",
    "    sol_u_x[0,:]=vmap(u_x)(X_domain[0,:,0],X_domain[0,:,1])\n",
    "    sol_u_xx[0,:]=vmap(u_xx)(X_domain[0,:,0],X_domain[0,:,1])\n",
    "    \n",
    "    Theta = assembly_Theta(X_domain[0,:,1], X_boundary[0,:,1], nugget, sigma)\n",
    "    N_domain = num_pts\n",
    "    N_boundary = 2\n",
    "    trace1 = jnp.trace(Theta[:N_domain, :N_domain])\n",
    "    trace2 = jnp.trace(Theta[N_domain:2*N_domain, N_domain:2*N_domain])\n",
    "    trace3 = jnp.trace(Theta[2*N_domain:, 2*N_domain:])\n",
    "    ratio = [trace1/trace3, trace2/trace3]\n",
    "    temp=jnp.concatenate((ratio[0]*jnp.ones((1,N_domain)),ratio[1]*jnp.ones((1,N_domain)),jnp.ones((1,N_domain+N_boundary))), axis=1)\n",
    "    Theta = Theta + nugget*jnp.diag(temp[0])\n",
    "    L = jnp.linalg.cholesky(Theta)\n",
    "    for iter_i in range(Nt-1):\n",
    "        # solve at t = (iter_i+1)*dt\n",
    "        # get rhs_f and bdy_g\n",
    "        rhs_f = 2/dt*sol_u[iter_i,:]-sol_u[iter_i,:]*sol_u_x[iter_i,:]+nu*sol_u_xx[iter_i,:]\n",
    "        bdy_g = jnp.array([0,0])\n",
    "        sol = jnp.append(sol_u[iter_i,:],sol_u_x[iter_i,:]) # initialization\n",
    "        \n",
    "        for iter_step in range(GN_iteration):\n",
    "            temp = jnp.linalg.solve(Hessian_GN(sol,rhs_f,bdy_g,L,dt,sol), grad_J(sol,rhs_f,bdy_g,L,dt))\n",
    "            sol = sol - step_size*temp\n",
    "            \n",
    "        sol_u[iter_i+1,:] = sol[:num_pts]\n",
    "        sol_u_x[iter_i+1,:] = sol[num_pts:]\n",
    "        sol_u_xx[iter_i+1,:] = (2/dt*sol[:num_pts]+sol[:num_pts]*sol[num_pts:]-rhs_f)/nu\n",
    "        if iter_i % 5 ==1:\n",
    "            print('Solved at time',dt*(iter_i+1),'\\n')\n",
    "    return sol_u "
   ]
  },
  {
   "cell_type": "code",
   "execution_count": 9,
   "id": "249ff30c",
   "metadata": {},
   "outputs": [
    {
     "name": "stderr",
     "output_type": "stream",
     "text": [
      "WARNING:absl:No GPU/TPU found, falling back to CPU. (Set TF_CPP_MIN_LOG_LEVEL=0 and rerun for more info.)\n"
     ]
    },
    {
     "name": "stdout",
     "output_type": "stream",
     "text": [
      "Solved at time 0.08 \n",
      "\n",
      "Solved at time 0.28 \n",
      "\n",
      "Solved at time 0.48 \n",
      "\n",
      "Solved at time 0.68 \n",
      "\n",
      "Solved at time 0.88 \n",
      "\n"
     ]
    }
   ],
   "source": [
    "dt = 4*1e-2\n",
    "T = 1\n",
    "Nt = int(T/dt) +1\n",
    "num_pts = 400\n",
    "\n",
    "X_domain, X_boundary = sample_points(num_pts, dt, T, option = 'grid')\n",
    "sol_domain = time_steping_solve(X_domain, X_boundary, dt, T,num_pts,step_size = 1, nugget = 1e-13, sigma=0.01, GN_iteration = 2)"
   ]
  },
  {
   "cell_type": "code",
   "execution_count": 10,
   "id": "3cc1369b",
   "metadata": {},
   "outputs": [],
   "source": [
    "# plot parameters\n",
    "import matplotlib.ticker as ticker\n",
    "\n",
    "fsize = 15\n",
    "tsize = 15\n",
    "tdir = 'in'\n",
    "major = 5.0\n",
    "minor = 3.0\n",
    "lwidth = 0.8\n",
    "lhandle = 2.0\n",
    "plt.style.use('default')\n",
    "plt.rcParams['text.usetex'] = True\n",
    "plt.rcParams['font.size'] = fsize\n",
    "plt.rcParams['legend.fontsize'] = tsize\n",
    "plt.rcParams['xtick.direction'] = tdir\n",
    "plt.rcParams['ytick.direction'] = tdir\n",
    "plt.rcParams['xtick.major.size'] = major\n",
    "plt.rcParams['xtick.minor.size'] = minor\n",
    "plt.rcParams['ytick.major.size'] = 5.0\n",
    "plt.rcParams['ytick.minor.size'] = 3.0\n",
    "plt.rcParams['axes.linewidth'] = lwidth\n",
    "plt.rcParams['legend.handlelength'] = lhandle\n",
    "fmt = ticker.ScalarFormatter(useMathText=True)\n",
    "fmt.set_powerlimits((0, 0))"
   ]
  },
  {
   "cell_type": "code",
   "execution_count": 11,
   "id": "d7ba2cbe",
   "metadata": {},
   "outputs": [],
   "source": [
    "# get the true solution\n",
    "\n",
    "y_true = vmap(u_true)(X_domain[:,:,0].flatten(),X_domain[:,:,1].flatten())\n",
    "y_true = onp.reshape(y_true, (Nt,num_pts))"
   ]
  },
  {
   "cell_type": "code",
   "execution_count": 12,
   "id": "c89ae021",
   "metadata": {
    "scrolled": true
   },
   "outputs": [
    {
     "data": {
      "image/png": "[encoded data removed]",
      "text/plain": [
       "<Figure size 1500x500 with 3 Axes>"
      ]
     },
     "metadata": {},
     "output_type": "display_data"
    },
    {
     "name": "stdout",
     "output_type": "stream",
     "text": [
      "L2 err at t=1 is  0.00027011055617724304  and Max err is  0.0003889429195014227 \n",
      "\n"
     ]
    }
   ],
   "source": [
    "fig = plt.figure(figsize=(15,5))\n",
    "ax = fig.add_subplot(121)\n",
    "err = abs(sol_domain[:,:]-y_true)\n",
    "u_contourf=ax.contourf(X_domain[:,:,1], X_domain[:,:,0], err, 50, cmap=plt.cm.coolwarm)\n",
    "plt.xlabel('$x$')\n",
    "plt.ylabel('$t$')\n",
    "plt.title('Contour of errors')\n",
    "fig.colorbar(u_contourf, format=fmt)\n",
    "\n",
    "\n",
    "ax = fig.add_subplot(122)\n",
    "ax.plot(X_domain[0,:,1], y_true[-1,:], linewidth=2.5, label='true sol')\n",
    "ax.plot(X_domain[0,:,1], sol_domain[-1,:], linestyle='dashed', linewidth=2.5, color='red', label='numeric sol')\n",
    "ax.set_xlabel('$x$')\n",
    "ax.legend(loc=\"upper right\")\n",
    "plt.title('At time $t = 1$')\n",
    "\n",
    "plt.show()\n",
    "fig.tight_layout()\n",
    "\n",
    "err_t_1 = err[-1,:]\n",
    "L2err_t_1 = onp.sqrt(sum(err_t_1**2)/num_pts)\n",
    "Maxerr_t_1 = max(err[-1,:])\n",
    "print('L2 err at t=1 is ', L2err_t_1,' and Max err is ', Maxerr_t_1, '\\n')"
   ]
  },
  {
   "cell_type": "code",
   "execution_count": 13,
   "id": "7c389e50",
   "metadata": {},
   "outputs": [],
   "source": [
    "fig.savefig('Burgers_001pi.pdf', bbox_inches='tight',dpi=100,pad_inches=0.1)"
   ]
  },
  {
   "cell_type": "code",
   "execution_count": null,
   "id": "f244b327",
   "metadata": {},
   "outputs": [],
   "source": []
  }
 ],
 "metadata": {
  "kernelspec": {
   "display_name": "Python 3",
   "language": "python",
   "name": "python3"
  },
  "language_info": {
   "codemirror_mode": {
    "name": "ipython",
    "version": 3
   },
   "file_extension": ".py",
   "mimetype": "text/x-python",
   "name": "python",
   "nbconvert_exporter": "python",
   "pygments_lexer": "ipython3",
   "version": "3.8.3"
  }
 },
 "nbformat": 4,
 "nbformat_minor": 5
}
