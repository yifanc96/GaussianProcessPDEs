{
 "cells": [
  {
   "cell_type": "code",
   "execution_count": 1,
   "id": "61afde78",
   "metadata": {},
   "outputs": [],
   "source": [
    "import jax.numpy as jnp\n",
    "from jax import grad, vmap, hessian\n",
    "\n",
    "import jax.ops as jop\n",
    "from jax.config import config; \n",
    "config.update(\"jax_enable_x64\", True)\n",
    "\n",
    "# numpy\n",
    "import numpy as onp\n",
    "from numpy import random \n",
    "\n",
    "# Plot\n",
    "import matplotlib.pyplot as plt"
   ]
  },
  {
   "cell_type": "code",
   "execution_count": 2,
   "id": "b30aee42",
   "metadata": {},
   "outputs": [],
   "source": [
    "# up to 2nd derivatives\n",
    "\n",
    "def kappa(x,y,d,sigma):\n",
    "    dist2 = jnp.sum((x-y)**2)\n",
    "    return jnp.exp(-dist2/(2*sigma**2))\n",
    "\n",
    "def Delta_y_kappa(x,y,d,sigma):\n",
    "    dist2 = jnp.sum((x-y)**2)\n",
    "    val = (-d*(sigma**2)+dist2)/(sigma**4)*jnp.exp(-dist2/(2*sigma**2))\n",
    "    return val\n",
    "\n",
    "\n",
    "def Delta_x_kappa(x,y,d,sigma):\n",
    "    dist2 = jnp.sum((x-y)**2)\n",
    "    val = (-d*(sigma**2)+dist2)/(sigma**4)*jnp.exp(-dist2/(2*sigma**2))\n",
    "    return val\n",
    "\n",
    "\n",
    "def Delta_x_Delta_y_kappa(x,y,d,sigma):\n",
    "    dist2 = jnp.sum((x-y)**2)\n",
    "    val = ((sigma**4)*d*(2+d)-2*(sigma**2)*(2+d)*dist2+dist2**2)/(sigma**8)*jnp.exp(-dist2/(2*sigma**2))\n",
    "    return val\n",
    "\n",
    "def get_GNkernel_train(x,y,wx0,wx1,wy0,wy1,d,sigma):\n",
    "    return wx0*wy0*kappa(x,y,d,sigma) + wx0*wy1*Delta_y_kappa(x,y,d,sigma) + wy0*wx1*Delta_x_kappa(x,y,d,sigma) + wx1*wy1*Delta_x_Delta_y_kappa(x,y,d,sigma)\n",
    "\n",
    "def get_GNkernel_train_boundary(x,y,wy0,wy1,d,sigma):\n",
    "    return wy0*kappa(x,y,d,sigma) + wy1*Delta_y_kappa(x,y,d,sigma)\n",
    "\n",
    "def get_GNkernel_val_predict(x,y,wy0,wy1,d,sigma):\n",
    "    return wy0*kappa(x,y,d,sigma) + wy1*Delta_y_kappa(x,y,d,sigma)\n",
    "\n"
   ]
  },
  {
   "cell_type": "code",
   "execution_count": 3,
   "id": "17121917",
   "metadata": {},
   "outputs": [],
   "source": [
    "alpha = 1.0\n",
    "m = 3\n",
    "def u(x):\n",
    "#     return 4*jnp.sin(jnp.sum(4*x**2))\n",
    "    return jnp.sin(jnp.sum(x))\n",
    "#     return 4*jnp.sum(x**2)\n",
    "def f(x):\n",
    "    return -jnp.trace(hessian(u)(x))+alpha*(u(x)**m)\n",
    "def g(x):\n",
    "    return u(x)"
   ]
  },
  {
   "cell_type": "code",
   "execution_count": 4,
   "id": "204fcc32",
   "metadata": {},
   "outputs": [],
   "source": [
    "def assembly_Theta(X_domain, X_boundary, w0, w1, sigma):\n",
    "    # X_domain, dim: N_domain*d; \n",
    "    # w0 col vec: coefs of Diracs, dim: N_domain; \n",
    "    # w1 coefs of Laplacians, dim: N_domain\n",
    "    \n",
    "    N_domain,d = onp.shape(X_domain)\n",
    "    N_boundary,_ = onp.shape(X_boundary)\n",
    "    Theta = onp.zeros((N_domain+N_boundary,N_domain+N_boundary))\n",
    "    \n",
    "    XdXd0 = onp.reshape(onp.tile(X_domain,(1,N_domain)),(-1,d))\n",
    "    XdXd1 = onp.tile(X_domain,(N_domain,1))\n",
    "    \n",
    "    XbXd0 = onp.reshape(onp.tile(X_boundary,(1,N_domain)),(-1,d))\n",
    "    XbXd1 = onp.tile(X_domain,(N_boundary,1))\n",
    "    \n",
    "    XbXb0 = onp.reshape(onp.tile(X_boundary,(1,N_boundary)),(-1,d))\n",
    "    XbXb1 = onp.tile(X_boundary,(N_boundary,1))\n",
    "    \n",
    "    arr_wx0 = onp.reshape(onp.tile(w0,(1,N_domain)),(-1,1))\n",
    "    arr_wx1 = onp.reshape(onp.tile(w1,(1,N_domain)),(-1,1))\n",
    "    arr_wy0 = onp.tile(w0,(N_domain,1))\n",
    "    arr_wy1 = onp.tile(w1,(N_domain,1))\n",
    "    \n",
    "    arr_wy0_bd = onp.tile(w0,(N_boundary,1))\n",
    "    arr_wy1_bd = onp.tile(w1,(N_boundary,1))\n",
    "    \n",
    "    val = vmap(lambda x,y,wx0,wx1,wy0,wy1: get_GNkernel_train(x,y,wx0,wx1,wy0,wy1,d,sigma))(XdXd0,XdXd1,arr_wx0,arr_wx1,arr_wy0,arr_wy1)\n",
    "    Theta[:N_domain,:N_domain] = onp.reshape(val, (N_domain,N_domain))\n",
    "    \n",
    "    val = vmap(lambda x,y,wy0,wy1: get_GNkernel_train_boundary(x,y,wy0,wy1,d,sigma))(XbXd0,XbXd1,arr_wy0_bd,arr_wy1_bd)\n",
    "    Theta[N_domain:,:N_domain] = onp.reshape(val, (N_boundary,N_domain))\n",
    "    Theta[:N_domain,N_domain:] = onp.transpose(onp.reshape(val, (N_boundary,N_domain)))\n",
    "    \n",
    "    val = vmap(lambda x,y: kappa(x,y,d,sigma))(XbXb0, XbXb1)\n",
    "    Theta[N_domain:,N_domain:] = onp.reshape(val, (N_boundary, N_boundary))\n",
    "    return Theta\n",
    "    \n",
    "def assembly_Theta_value_predict(X_infer, X_domain, X_boundary, w0, w1, sigma):\n",
    "    N_infer, d = onp.shape(X_infer)\n",
    "    N_domain, _ = onp.shape(X_domain)\n",
    "    N_boundary, _ = onp.shape(X_boundary)\n",
    "    Theta = onp.zeros((N_infer,N_domain+N_boundary))\n",
    "    \n",
    "    XiXd0 = onp.reshape(onp.tile(X_infer,(1,N_domain)),(-1,d))\n",
    "    XiXd1 = onp.tile(X_domain,(N_infer,1))\n",
    "    \n",
    "    XiXb0 = onp.reshape(onp.tile(X_infer,(1,N_boundary)),(-1,d))\n",
    "    XiXb1 = onp.tile(X_boundary,(N_infer,1))\n",
    "    \n",
    "    arr_wy0 = onp.tile(w0,(N_infer,1))\n",
    "    arr_wy1 = onp.tile(w1,(N_infer,1))\n",
    "    \n",
    "    val = vmap(lambda x,y,wy0,wy1: get_GNkernel_val_predict(x,y,wy0,wy1,d,sigma))(XiXd0,XiXd1,arr_wy0,arr_wy1)\n",
    "    Theta[:N_infer,:N_domain] = onp.reshape(val, (N_infer,N_domain))\n",
    "    \n",
    "    val = vmap(lambda x,y: kappa(x,y,d,sigma))(XiXb0, XiXb1)\n",
    "    Theta[:N_infer,N_domain:] = onp.reshape(val, (N_infer,N_boundary))\n",
    "    return Theta"
   ]
  },
  {
   "cell_type": "code",
   "execution_count": 5,
   "id": "0df05d68",
   "metadata": {},
   "outputs": [],
   "source": [
    "def GPsolver(X_domain, X_boundary, sigma, nugget, sol_init, GN_step = 4):\n",
    "    N_domain, d = onp.shape(X_domain)\n",
    "    sol = sol_init\n",
    "    rhs_f = vmap(f)(X_domain)[:,onp.newaxis]\n",
    "    bdy_g = vmap(g)(X_boundary)[:,onp.newaxis]\n",
    "    for i in range(GN_step):\n",
    "        w1 = -onp.ones((N_domain,1))\n",
    "        w0 = alpha*m*(sol**(m-1))\n",
    "        Theta_train = assembly_Theta(X_domain, X_boundary, w0, w1, sigma)\n",
    "        Theta_test = assembly_Theta_value_predict(X_domain, X_domain, X_boundary, w0, w1, sigma)\n",
    "        rhs = rhs_f + alpha*(m-1)*(sol**m)\n",
    "        rhs = onp.concatenate((rhs, bdy_g), axis = 0)\n",
    "        sol = Theta_test @ (onp.linalg.solve(Theta_train + nugget*onp.eye(onp.shape(Theta_train)[0]),rhs))\n",
    "    return sol"
   ]
  },
  {
   "cell_type": "code",
   "execution_count": 6,
   "id": "ace1f63c",
   "metadata": {},
   "outputs": [],
   "source": [
    "def sample_points(N_domain, N_boundary, d, choice = 'random'):\n",
    "    X_domain = onp.zeros((N_domain,d))\n",
    "    X_boundary = onp.zeros((N_boundary,d))\n",
    "    \n",
    "    X_domain = onp.random.randn(N_domain,d)  # N_domain*d\n",
    "    X_domain /= onp.linalg.norm(X_domain, axis=1)[:,onp.newaxis] # the divisor is of N_domain*1\n",
    "    random_radii = onp.random.rand(N_domain,1) ** (1/d)\n",
    "    X_domain *= random_radii\n",
    "    \n",
    "    X_boundary = onp.random.randn(N_boundary,d)\n",
    "    X_boundary /= onp.linalg.norm(X_boundary, axis=1)[:,onp.newaxis]\n",
    "    return X_domain, X_boundary\n",
    "\n",
    "N_domain = 1000\n",
    "N_boundary = 200\n",
    "d = 10\n",
    "X_domain, X_boundary = sample_points(N_domain, N_boundary, d, choice = 'random')"
   ]
  },
  {
   "cell_type": "code",
   "execution_count": 7,
   "id": "571d7a62",
   "metadata": {},
   "outputs": [
    {
     "data": {
      "image/png": "[encoded data removed]",
      "text/plain": [
       "<Figure size 432x288 with 1 Axes>"
      ]
     },
     "metadata": {
      "needs_background": "light"
     },
     "output_type": "display_data"
    }
   ],
   "source": [
    "fig, ax = plt.subplots()\n",
    "ax.scatter(X_domain[:, 0], X_domain[:, 1], label='Interior nodes')\n",
    "ax.scatter(X_boundary[:, 0], X_boundary[:, 1], label='Boundary nodes')\n",
    "ax.axis('equal')\n",
    "plt.show()"
   ]
  },
  {
   "cell_type": "code",
   "execution_count": 8,
   "id": "6cd2696a",
   "metadata": {},
   "outputs": [
    {
     "name": "stderr",
     "output_type": "stream",
     "text": [
      "WARNING:absl:No GPU/TPU found, falling back to CPU. (Set TF_CPP_MIN_LOG_LEVEL=0 and rerun for more info.)\n"
     ]
    }
   ],
   "source": [
    "sol_init = onp.random.randn(N_domain,1)\n",
    "sigma = onp.sqrt(d)/4\n",
    "nugget = 0.0\n",
    "sol = GPsolver(X_domain, X_boundary, sigma, nugget, sol_init, GN_step = 6)"
   ]
  },
  {
   "cell_type": "code",
   "execution_count": 9,
   "id": "17d6f32f",
   "metadata": {},
   "outputs": [
    {
     "name": "stdout",
     "output_type": "stream",
     "text": [
      "0.5304582868614436\n",
      "0.0025933358113841886\n"
     ]
    }
   ],
   "source": [
    "sol_truth = vmap(u)(X_domain)[:,onp.newaxis]\n",
    "err = abs(sol-sol_truth)\n",
    "print(onp.max(err))\n",
    "print(onp.linalg.norm(err,'fro')/(N_domain))"
   ]
  },
  {
   "cell_type": "code",
   "execution_count": 10,
   "id": "cb2b6d69",
   "metadata": {},
   "outputs": [
    {
     "name": "stdout",
     "output_type": "stream",
     "text": [
      "[[0.07773021]\n",
      " [0.08303063]\n",
      " [0.11456717]\n",
      " [0.08636822]\n",
      " [0.00725675]\n",
      " [0.15518607]\n",
      " [0.03485816]\n",
      " [0.05833986]\n",
      " [0.21995994]\n",
      " [0.04978184]\n",
      " [0.00649389]\n",
      " [0.05905447]\n",
      " [0.04531643]\n",
      " [0.03122201]\n",
      " [0.05788695]\n",
      " [0.0909599 ]\n",
      " [0.00390547]\n",
      " [0.01138142]\n",
      " [0.12742396]\n",
      " [0.10055364]\n",
      " [0.13366979]\n",
      " [0.22653467]\n",
      " [0.06901483]\n",
      " [0.09667244]\n",
      " [0.04175229]\n",
      " [0.02846939]\n",
      " [0.02511704]\n",
      " [0.06955221]\n",
      " [0.009073  ]\n",
      " [0.08884196]\n",
      " [0.0343807 ]\n",
      " [0.1023687 ]\n",
      " [0.15096233]\n",
      " [0.04226315]\n",
      " [0.09874516]\n",
      " [0.10525424]\n",
      " [0.12595806]\n",
      " [0.03121201]\n",
      " [0.03396857]\n",
      " [0.05530843]\n",
      " [0.03633243]\n",
      " [0.01644715]\n",
      " [0.15160148]\n",
      " [0.09411761]\n",
      " [0.0775966 ]\n",
      " [0.00640243]\n",
      " [0.0362228 ]\n",
      " [0.00769249]\n",
      " [0.05503692]\n",
      " [0.1028792 ]\n",
      " [0.09975408]\n",
      " [0.01004032]\n",
      " [0.09523197]\n",
      " [0.16443687]\n",
      " [0.09663501]\n",
      " [0.03894964]\n",
      " [0.05275796]\n",
      " [0.01725496]\n",
      " [0.03491639]\n",
      " [0.0754835 ]\n",
      " [0.10506626]\n",
      " [0.07530257]\n",
      " [0.12265553]\n",
      " [0.11119962]\n",
      " [0.04710139]\n",
      " [0.06721702]\n",
      " [0.02616428]\n",
      " [0.09725129]\n",
      " [0.01271335]\n",
      " [0.06424825]\n",
      " [0.02306899]\n",
      " [0.09910424]\n",
      " [0.0605297 ]\n",
      " [0.02806193]\n",
      " [0.07933507]\n",
      " [0.01277931]\n",
      " [0.12742245]\n",
      " [0.00401193]\n",
      " [0.07330722]\n",
      " [0.04985925]\n",
      " [0.09540006]\n",
      " [0.11588308]\n",
      " [0.03664947]\n",
      " [0.04494019]\n",
      " [0.12985869]\n",
      " [0.13250247]\n",
      " [0.10621832]\n",
      " [0.07537691]\n",
      " [0.15145022]\n",
      " [0.01987583]\n",
      " [0.13276584]\n",
      " [0.05139386]\n",
      " [0.08562114]\n",
      " [0.09472285]\n",
      " [0.0521084 ]\n",
      " [0.04604957]\n",
      " [0.05287798]\n",
      " [0.06315029]\n",
      " [0.11507334]\n",
      " [0.07627128]]\n"
     ]
    }
   ],
   "source": [
    "print(err[0:100])"
   ]
  },
  {
   "cell_type": "code",
   "execution_count": null,
   "id": "77833efb",
   "metadata": {},
   "outputs": [],
   "source": []
  }
 ],
 "metadata": {
  "kernelspec": {
   "display_name": "Python 3",
   "language": "python",
   "name": "python3"
  },
  "language_info": {
   "codemirror_mode": {
    "name": "ipython",
    "version": 3
   },
   "file_extension": ".py",
   "mimetype": "text/x-python",
   "name": "python",
   "nbconvert_exporter": "python",
   "pygments_lexer": "ipython3",
   "version": "3.8.3"
  }
 },
 "nbformat": 4,
 "nbformat_minor": 5
}
